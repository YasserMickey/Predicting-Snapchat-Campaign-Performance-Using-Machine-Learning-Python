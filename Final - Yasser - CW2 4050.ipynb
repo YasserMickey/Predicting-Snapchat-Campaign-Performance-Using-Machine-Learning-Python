{
 "cells": [
  {
   "cell_type": "markdown",
   "id": "ad331b12",
   "metadata": {},
   "source": [
    "# Predicting how users with different lifestyle category interest will interact with off-plan multi-lingual Real Estate Video Ads in the GCC* on Snapchat"
   ]
  },
  {
   "cell_type": "markdown",
   "id": "5391951e",
   "metadata": {},
   "source": [
    "\n",
    "### Importing Libraries"
   ]
  },
  {
   "cell_type": "code",
   "execution_count": 1,
   "id": "a44cb7b6",
   "metadata": {},
   "outputs": [],
   "source": [
    "import pandas as pd\n",
    "import numpy as np\n",
    "import matplotlib.pyplot as plt\n",
    "import seaborn as sns"
   ]
  },
  {
   "cell_type": "markdown",
   "id": "b3f65c98",
   "metadata": {},
   "source": [
    "### Importing Dataset"
   ]
  },
  {
   "cell_type": "code",
   "execution_count": 2,
   "id": "f5135e7d",
   "metadata": {},
   "outputs": [
    {
     "data": {
      "text/html": [
       "<div>\n",
       "<style scoped>\n",
       "    .dataframe tbody tr th:only-of-type {\n",
       "        vertical-align: middle;\n",
       "    }\n",
       "\n",
       "    .dataframe tbody tr th {\n",
       "        vertical-align: top;\n",
       "    }\n",
       "\n",
       "    .dataframe thead th {\n",
       "        text-align: right;\n",
       "    }\n",
       "</style>\n",
       "<table border=\"1\" class=\"dataframe\">\n",
       "  <thead>\n",
       "    <tr style=\"text-align: right;\">\n",
       "      <th></th>\n",
       "      <th>Start Time</th>\n",
       "      <th>Lifestyle Category</th>\n",
       "      <th>Campaign Name</th>\n",
       "      <th>Paid Impressions</th>\n",
       "      <th>Amount Spent</th>\n",
       "      <th>Paid eCPM</th>\n",
       "      <th>Swipe Ups</th>\n",
       "      <th>eCPSU</th>\n",
       "      <th>Swipe Up Rate</th>\n",
       "    </tr>\n",
       "  </thead>\n",
       "  <tbody>\n",
       "    <tr>\n",
       "      <th>0</th>\n",
       "      <td>2021-04-01 00:00:00 GST</td>\n",
       "      <td>Women's Lifestyle</td>\n",
       "      <td>Sobha - 3ayar - UAE</td>\n",
       "      <td>14158</td>\n",
       "      <td>55.67</td>\n",
       "      <td>3.93</td>\n",
       "      <td>56</td>\n",
       "      <td>0.99</td>\n",
       "      <td>0.0040</td>\n",
       "    </tr>\n",
       "    <tr>\n",
       "      <th>1</th>\n",
       "      <td>2021-04-01 00:00:00 GST</td>\n",
       "      <td>Automotive Shoppers</td>\n",
       "      <td>Sobha - 3ayar - UAE</td>\n",
       "      <td>16091</td>\n",
       "      <td>56.39</td>\n",
       "      <td>3.50</td>\n",
       "      <td>64</td>\n",
       "      <td>0.88</td>\n",
       "      <td>0.0040</td>\n",
       "    </tr>\n",
       "    <tr>\n",
       "      <th>2</th>\n",
       "      <td>2021-04-01 00:00:00 GST</td>\n",
       "      <td>Social Drinkers</td>\n",
       "      <td>Sobha - 3ayar - UAE</td>\n",
       "      <td>97</td>\n",
       "      <td>0.25</td>\n",
       "      <td>2.55</td>\n",
       "      <td>1</td>\n",
       "      <td>0.25</td>\n",
       "      <td>0.0103</td>\n",
       "    </tr>\n",
       "    <tr>\n",
       "      <th>3</th>\n",
       "      <td>2021-04-01 00:00:00 GST</td>\n",
       "      <td>Beer Drinkers</td>\n",
       "      <td>Sobha - 3ayar - UAE</td>\n",
       "      <td>39</td>\n",
       "      <td>0.15</td>\n",
       "      <td>3.89</td>\n",
       "      <td>0</td>\n",
       "      <td>0.00</td>\n",
       "      <td>0.0000</td>\n",
       "    </tr>\n",
       "    <tr>\n",
       "      <th>4</th>\n",
       "      <td>2021-04-01 00:00:00 GST</td>\n",
       "      <td>Wine Enthusiasts</td>\n",
       "      <td>Sobha - 3ayar - UAE</td>\n",
       "      <td>17</td>\n",
       "      <td>0.05</td>\n",
       "      <td>2.85</td>\n",
       "      <td>0</td>\n",
       "      <td>0.00</td>\n",
       "      <td>0.0000</td>\n",
       "    </tr>\n",
       "  </tbody>\n",
       "</table>\n",
       "</div>"
      ],
      "text/plain": [
       "                Start Time   Lifestyle Category        Campaign Name  \\\n",
       "0  2021-04-01 00:00:00 GST    Women's Lifestyle  Sobha - 3ayar - UAE   \n",
       "1  2021-04-01 00:00:00 GST  Automotive Shoppers  Sobha - 3ayar - UAE   \n",
       "2  2021-04-01 00:00:00 GST      Social Drinkers  Sobha - 3ayar - UAE   \n",
       "3  2021-04-01 00:00:00 GST        Beer Drinkers  Sobha - 3ayar - UAE   \n",
       "4  2021-04-01 00:00:00 GST     Wine Enthusiasts  Sobha - 3ayar - UAE   \n",
       "\n",
       "   Paid Impressions  Amount Spent  Paid eCPM  Swipe Ups  eCPSU  Swipe Up Rate  \n",
       "0             14158         55.67       3.93         56   0.99         0.0040  \n",
       "1             16091         56.39       3.50         64   0.88         0.0040  \n",
       "2                97          0.25       2.55          1   0.25         0.0103  \n",
       "3                39          0.15       3.89          0   0.00         0.0000  \n",
       "4                17          0.05       2.85          0   0.00         0.0000  "
      ]
     },
     "execution_count": 2,
     "metadata": {},
     "output_type": "execute_result"
    }
   ],
   "source": [
    "df = pd.read_csv(\"set2.csv\")\n",
    "df.head()"
   ]
  },
  {
   "cell_type": "code",
   "execution_count": 3,
   "id": "3997927f",
   "metadata": {},
   "outputs": [
    {
     "name": "stdout",
     "output_type": "stream",
     "text": [
      "<class 'pandas.core.frame.DataFrame'>\n",
      "RangeIndex: 31578 entries, 0 to 31577\n",
      "Data columns (total 9 columns):\n",
      " #   Column              Non-Null Count  Dtype  \n",
      "---  ------              --------------  -----  \n",
      " 0   Start Time          31578 non-null  object \n",
      " 1   Lifestyle Category  31578 non-null  object \n",
      " 2   Campaign Name       31578 non-null  object \n",
      " 3   Paid Impressions    31578 non-null  int64  \n",
      " 4   Amount Spent        31578 non-null  float64\n",
      " 5   Paid eCPM           31578 non-null  float64\n",
      " 6   Swipe Ups           31578 non-null  int64  \n",
      " 7   eCPSU               31578 non-null  float64\n",
      " 8   Swipe Up Rate       31578 non-null  float64\n",
      "dtypes: float64(4), int64(2), object(3)\n",
      "memory usage: 2.2+ MB\n"
     ]
    }
   ],
   "source": [
    "df.info()"
   ]
  },
  {
   "cell_type": "markdown",
   "id": "17f16669",
   "metadata": {},
   "source": [
    "###### Dropping Values wherever Paid Impressions Amount Spent Paid eCPM are null"
   ]
  },
  {
   "cell_type": "code",
   "execution_count": 4,
   "id": "6f7bd4c2",
   "metadata": {},
   "outputs": [],
   "source": [
    "df.drop(df[df['Paid Impressions'].isnull().values].index, axis=0, inplace=True)\n",
    "df.drop(df[df['Amount Spent'].isnull().values].index, axis=0, inplace=True)\n",
    "df.drop(df[df['Paid eCPM'].isnull().values].index, axis=0, inplace=True)"
   ]
  },
  {
   "cell_type": "markdown",
   "id": "4aa9bb92",
   "metadata": {},
   "source": [
    "# Data Cleansing, Pre Processing And Exploratory "
   ]
  },
  {
   "cell_type": "markdown",
   "id": "c1ecb204",
   "metadata": {},
   "source": [
    "### 1) Date column"
   ]
  },
  {
   "cell_type": "code",
   "execution_count": 5,
   "id": "dc6c290e",
   "metadata": {},
   "outputs": [],
   "source": [
    "## Function for transforming Start Time column\n",
    "def datetime_split(start_time):\n",
    "    return start_time.split(\" \")[0]\n",
    "\n",
    "## Transforming Date Time Column\n",
    "df['Date'] = pd.to_datetime(df['Start Time'].apply(datetime_split))"
   ]
  },
  {
   "cell_type": "code",
   "execution_count": 6,
   "id": "f2b19624",
   "metadata": {},
   "outputs": [],
   "source": [
    "#### Exploratory Swipe ups Vs Date"
   ]
  },
  {
   "cell_type": "code",
   "execution_count": 7,
   "id": "56551191",
   "metadata": {},
   "outputs": [
    {
     "data": {
      "image/png": "[encoded data removed]",
      "text/plain": [
       "<Figure size 1080x720 with 1 Axes>"
      ]
     },
     "metadata": {
      "needs_background": "light"
     },
     "output_type": "display_data"
    }
   ],
   "source": [
    "plt.figure(figsize=[15, 10])\n",
    "sns.lineplot(x=df['Date'], y=df['Swipe Ups'])\n",
    "plt.show()"
   ]
  },
  {
   "cell_type": "markdown",
   "id": "7ec1e077",
   "metadata": {},
   "source": [
    "### 2) Lifestyle Category"
   ]
  },
  {
   "cell_type": "code",
   "execution_count": 8,
   "id": "a6c2342a",
   "metadata": {},
   "outputs": [
    {
     "data": {
      "text/plain": [
       "array([\"Women's Lifestyle\", 'Automotive Shoppers', 'Social Drinkers',\n",
       "       'Beer Drinkers', 'Wine Enthusiasts', 'Liquor & Spirits Drinkers',\n",
       "       'Fun Trivia & Quiz Fanatics', 'Meme Watchers',\n",
       "       'Chat Fiction Enthusiasts', 'High Schoolers',\n",
       "       'Advocates & Activists', 'Wellness & Healthy Lifestyle',\n",
       "       'New Phone Seekers', 'Latin Music Fans', 'Esports Enthusiasts',\n",
       "       'Soul & R&b Fans', 'World Music Fans', 'Cricket Fans',\n",
       "       'Crime & Mystery Genre Fans', 'Indie & Foreign Film Fans',\n",
       "       'Comics & Animation Fans', 'Talent & Competition Show Fans',\n",
       "       'Do-it-yourselfers', 'Talk Show Fans', 'Fashion & Style Gurus',\n",
       "       'Film & Tv Fans', 'Action & Thriller Genre Fans', 'Comedy Fans',\n",
       "       'Cordcutters', 'Drama Genre Fans', 'Family Genre Fans',\n",
       "       'Horror Genre Fans', 'Adventure Seekers', 'Arts & Culture Mavens',\n",
       "       'Automotive Enthusiasts', 'Beachgoers & Surfers', 'Beauty Mavens',\n",
       "       'Bookworms & Avid Readers', 'Clubbers & Party People',\n",
       "       'Collegiates', 'Movie Theater Goers', 'Reality Tv Fans',\n",
       "       'Romance & Rom-com Fans', 'Sci-fi & Fantasy Fans',\n",
       "       'Superhero Film Fans', 'Fitness Enthusiasts',\n",
       "       'Cycling Enthusiasts', 'Running Enthusiasts', 'Yoga Enthusiasts',\n",
       "       'Foodies', 'Candy & Sweets Lovers', 'Cooking Enthusiasts',\n",
       "       'Fast Food Junkies', 'Vegans & Organic Foodies', 'Gamers',\n",
       "       'Casual & Mobile Gamers', 'Console & Pc Gamers',\n",
       "       'Green Living Enthusiasts', 'Hipsters & Trendsetters',\n",
       "       'Home Decoristas', 'Investors & Entrepreneurs',\n",
       "       'Math & Science Enthusiasts', \"Men's Lifestyle\",\n",
       "       'Sharp-dressed Men', 'Music Fans', 'Concert & Festival Goers',\n",
       "       'Country Music Fans', 'Dance & Electronic Music Fans',\n",
       "       'Indie & Alternative Music Fans', 'Pop Music Fans',\n",
       "       'Punk & Metal Fans', 'Rock Music Fans', 'Hip-hop Music Fans',\n",
       "       'News Watchers', 'Business News Watchers',\n",
       "       'Celebrity News Watchers', 'Political News Watchers',\n",
       "       'Outdoor & Nature Enthusiasts', 'Parents & Family-focused',\n",
       "       'Pet & Animal Lovers', 'Philanthropists', 'Photographers',\n",
       "       'Shoppers', 'Big Box Shoppers', 'Department Store Shoppers',\n",
       "       'Luxury Shoppers', 'Online Shoppers', 'Toy Shoppers',\n",
       "       'Sports Fans', 'College Basketball Fans', 'American Football Fans',\n",
       "       'Baseball Fans', 'Basketball Fans', 'College Football Fans',\n",
       "       'Fight & Wrestling Fans', 'Golfers', 'Hockey Fans',\n",
       "       'Motor Sports Fans', 'Olympics Enthusiasts',\n",
       "       'Snow Sport Enthusiasts', 'Teen & Young Adult Genre Fans',\n",
       "       'Burger Lovers', 'Coffee Lovers', 'Pizza Lovers',\n",
       "       'Shopping Mall Shoppers', 'Casino Visitors', 'Theme Park Visitors',\n",
       "       'Soccer Enthusiasts', 'Sneakerheads', 'Street Sport Enthusiasts',\n",
       "       'Energy Drink Consumers', 'Soft Drink Consumers',\n",
       "       'Tennis & Racquet Enthusiasts', 'Water Sport Enthusiasts',\n",
       "       'Techies & Gadget Fans', 'Travel Enthusiasts', 'Family Travelers',\n",
       "       'Frequent Travelers'], dtype=object)"
      ]
     },
     "execution_count": 8,
     "metadata": {},
     "output_type": "execute_result"
    }
   ],
   "source": [
    "## Getting Unique values for Lifestyle column\n",
    "df['Lifestyle Category'].unique()"
   ]
  },
  {
   "cell_type": "code",
   "execution_count": 9,
   "id": "58de9123",
   "metadata": {},
   "outputs": [
    {
     "data": {
      "text/plain": [
       "31578"
      ]
     },
     "execution_count": 9,
     "metadata": {},
     "output_type": "execute_result"
    }
   ],
   "source": [
    "## Getting Unique values for Lifestyle column\n",
    "df['Lifestyle Category'].count()"
   ]
  },
  {
   "cell_type": "code",
   "execution_count": 10,
   "id": "9702e70e",
   "metadata": {},
   "outputs": [
    {
     "data": {
      "text/plain": [
       "118"
      ]
     },
     "execution_count": 10,
     "metadata": {},
     "output_type": "execute_result"
    }
   ],
   "source": [
    "## Counting Unique values for Lifestyle column\n",
    "df['Lifestyle Category'].nunique()"
   ]
  },
  {
   "cell_type": "code",
   "execution_count": 11,
   "id": "a9b268a6",
   "metadata": {},
   "outputs": [],
   "source": [
    "### Preparing for Plotting"
   ]
  },
  {
   "cell_type": "code",
   "execution_count": 12,
   "id": "c69ea20f",
   "metadata": {},
   "outputs": [],
   "source": [
    "result = df.groupby([\"Lifestyle Category\"])['Swipe Ups'].aggregate(np.sum).reset_index().sort_values('Swipe Ups')"
   ]
  },
  {
   "cell_type": "code",
   "execution_count": 13,
   "id": "68b3ca6c",
   "metadata": {},
   "outputs": [],
   "source": [
    "#### Top 20 least interacted categories"
   ]
  },
  {
   "cell_type": "code",
   "execution_count": 14,
   "id": "7efca770",
   "metadata": {},
   "outputs": [
    {
     "data": {
      "image/png": "[encoded data removed]",
      "text/plain": [
       "<Figure size 1080x720 with 1 Axes>"
      ]
     },
     "metadata": {
      "needs_background": "light"
     },
     "output_type": "display_data"
    }
   ],
   "source": [
    "plt.figure(figsize=[15, 10])\n",
    "sns.barplot(y=result['Lifestyle Category'][:20], x=result['Swipe Ups'][:20])\n",
    "plt.show()"
   ]
  },
  {
   "cell_type": "code",
   "execution_count": 15,
   "id": "e449fce3",
   "metadata": {},
   "outputs": [],
   "source": [
    "### Top 20 "
   ]
  },
  {
   "cell_type": "code",
   "execution_count": 133,
   "id": "5e365ca2",
   "metadata": {},
   "outputs": [
    {
     "data": {
      "image/png": "[encoded data removed]",
      "text/plain": [
       "<Figure size 1080x720 with 1 Axes>"
      ]
     },
     "metadata": {
      "needs_background": "light"
     },
     "output_type": "display_data"
    }
   ],
   "source": [
    "plt.figure(figsize=[15, 10])\n",
    "sns.barplot(y=result['Lifestyle Category'][-20:], x=result['Swipe Ups'][-20:])\n",
    "plt.show()"
   ]
  },
  {
   "cell_type": "markdown",
   "id": "b06e8b22",
   "metadata": {},
   "source": [
    "### 3) Campaign Name"
   ]
  },
  {
   "cell_type": "code",
   "execution_count": 17,
   "id": "aae438cd",
   "metadata": {},
   "outputs": [
    {
     "data": {
      "text/plain": [
       "array(['Sobha - 3ayar - UAE', 'Binghatti - JVC', 'Aljurf - UAE - Native',\n",
       "       'La Rosa - Dubai Prop', 'Pixel - UAE - Native',\n",
       "       'Binghatti - Native', 'Binghati - KSA - Investors',\n",
       "       'Sobha - UAE - Native', 'Aljurf - Jan - Native ', 'TG - Harmony 2',\n",
       "       'Tilal alghaf - Ramadan', 'La Rosa - Targeted',\n",
       "       'Falcon City Villas', 'Sobha - Static - UAE',\n",
       "       'Waters Edge / Binghatti', 'Copy of Sobha - Jan - Native',\n",
       "       'Binghatti JVC - Ramadan - UAE', 'Sobha - KSA - Investors'],\n",
       "      dtype=object)"
      ]
     },
     "execution_count": 17,
     "metadata": {},
     "output_type": "execute_result"
    }
   ],
   "source": [
    "## Getting Unique Values for Campaign Name\n",
    "df['Campaign Name'].unique()"
   ]
  },
  {
   "cell_type": "code",
   "execution_count": 18,
   "id": "58ec9a33",
   "metadata": {},
   "outputs": [],
   "source": [
    "## Creating New column for country targeting of campaign\n",
    "def region(value):\n",
    "    if \"KSA\" in value:\n",
    "        return \"KSA\"\n",
    "    else:\n",
    "        return \"UAE\"\n",
    "    \n",
    "df['Region'] = df['Campaign Name'].apply(region)"
   ]
  },
  {
   "cell_type": "code",
   "execution_count": 19,
   "id": "ce299d74",
   "metadata": {},
   "outputs": [
    {
     "data": {
      "image/png": "[encoded data removed]",
      "text/plain": [
       "<Figure size 1080x720 with 1 Axes>"
      ]
     },
     "metadata": {
      "needs_background": "light"
     },
     "output_type": "display_data"
    }
   ],
   "source": [
    "plt.figure(figsize=[15, 10])\n",
    "sns.barplot(x=df['Region'], y=df['Swipe Up Rate'])\n",
    "plt.show()"
   ]
  },
  {
   "cell_type": "markdown",
   "id": "1fca8fbb",
   "metadata": {},
   "source": [
    "### 4) General Preprocessing"
   ]
  },
  {
   "cell_type": "code",
   "execution_count": 20,
   "id": "b8bc3c3b",
   "metadata": {},
   "outputs": [],
   "source": [
    "### Removing Rows that doesn't have values in numerical variables due to the system glitch "
   ]
  },
  {
   "cell_type": "code",
   "execution_count": 21,
   "id": "de940499",
   "metadata": {},
   "outputs": [
    {
     "data": {
      "text/html": [
       "<div>\n",
       "<style scoped>\n",
       "    .dataframe tbody tr th:only-of-type {\n",
       "        vertical-align: middle;\n",
       "    }\n",
       "\n",
       "    .dataframe tbody tr th {\n",
       "        vertical-align: top;\n",
       "    }\n",
       "\n",
       "    .dataframe thead th {\n",
       "        text-align: right;\n",
       "    }\n",
       "</style>\n",
       "<table border=\"1\" class=\"dataframe\">\n",
       "  <thead>\n",
       "    <tr style=\"text-align: right;\">\n",
       "      <th></th>\n",
       "      <th>Start Time</th>\n",
       "      <th>Lifestyle Category</th>\n",
       "      <th>Campaign Name</th>\n",
       "      <th>Paid Impressions</th>\n",
       "      <th>Amount Spent</th>\n",
       "      <th>Paid eCPM</th>\n",
       "      <th>Swipe Ups</th>\n",
       "      <th>eCPSU</th>\n",
       "      <th>Swipe Up Rate</th>\n",
       "      <th>Date</th>\n",
       "      <th>Region</th>\n",
       "    </tr>\n",
       "  </thead>\n",
       "  <tbody>\n",
       "    <tr>\n",
       "      <th>9</th>\n",
       "      <td>2021-04-01 00:00:00 GST</td>\n",
       "      <td>High Schoolers</td>\n",
       "      <td>Sobha - 3ayar - UAE</td>\n",
       "      <td>0</td>\n",
       "      <td>0.0</td>\n",
       "      <td>0.0</td>\n",
       "      <td>0</td>\n",
       "      <td>0.0</td>\n",
       "      <td>0.0</td>\n",
       "      <td>2021-04-01</td>\n",
       "      <td>UAE</td>\n",
       "    </tr>\n",
       "    <tr>\n",
       "      <th>127</th>\n",
       "      <td>2021-04-02 00:00:00 GST</td>\n",
       "      <td>High Schoolers</td>\n",
       "      <td>Sobha - 3ayar - UAE</td>\n",
       "      <td>0</td>\n",
       "      <td>0.0</td>\n",
       "      <td>0.0</td>\n",
       "      <td>0</td>\n",
       "      <td>0.0</td>\n",
       "      <td>0.0</td>\n",
       "      <td>2021-04-02</td>\n",
       "      <td>UAE</td>\n",
       "    </tr>\n",
       "    <tr>\n",
       "      <th>245</th>\n",
       "      <td>2021-04-03 00:00:00 GST</td>\n",
       "      <td>High Schoolers</td>\n",
       "      <td>Sobha - 3ayar - UAE</td>\n",
       "      <td>0</td>\n",
       "      <td>0.0</td>\n",
       "      <td>0.0</td>\n",
       "      <td>0</td>\n",
       "      <td>0.0</td>\n",
       "      <td>0.0</td>\n",
       "      <td>2021-04-03</td>\n",
       "      <td>UAE</td>\n",
       "    </tr>\n",
       "    <tr>\n",
       "      <th>341</th>\n",
       "      <td>2021-04-03 00:00:00 GST</td>\n",
       "      <td>Casino Visitors</td>\n",
       "      <td>Sobha - 3ayar - UAE</td>\n",
       "      <td>0</td>\n",
       "      <td>0.0</td>\n",
       "      <td>0.0</td>\n",
       "      <td>0</td>\n",
       "      <td>0.0</td>\n",
       "      <td>0.0</td>\n",
       "      <td>2021-04-03</td>\n",
       "      <td>UAE</td>\n",
       "    </tr>\n",
       "    <tr>\n",
       "      <th>356</th>\n",
       "      <td>2021-04-05 00:00:00 GST</td>\n",
       "      <td>Social Drinkers</td>\n",
       "      <td>Sobha - 3ayar - UAE</td>\n",
       "      <td>0</td>\n",
       "      <td>0.0</td>\n",
       "      <td>0.0</td>\n",
       "      <td>0</td>\n",
       "      <td>0.0</td>\n",
       "      <td>0.0</td>\n",
       "      <td>2021-04-05</td>\n",
       "      <td>UAE</td>\n",
       "    </tr>\n",
       "    <tr>\n",
       "      <th>...</th>\n",
       "      <td>...</td>\n",
       "      <td>...</td>\n",
       "      <td>...</td>\n",
       "      <td>...</td>\n",
       "      <td>...</td>\n",
       "      <td>...</td>\n",
       "      <td>...</td>\n",
       "      <td>...</td>\n",
       "      <td>...</td>\n",
       "      <td>...</td>\n",
       "      <td>...</td>\n",
       "    </tr>\n",
       "    <tr>\n",
       "      <th>27172</th>\n",
       "      <td>2021-04-26 00:00:00 GST</td>\n",
       "      <td>Casino Visitors</td>\n",
       "      <td>Binghatti JVC - Ramadan - UAE</td>\n",
       "      <td>0</td>\n",
       "      <td>0.0</td>\n",
       "      <td>0.0</td>\n",
       "      <td>0</td>\n",
       "      <td>0.0</td>\n",
       "      <td>0.0</td>\n",
       "      <td>2021-04-26</td>\n",
       "      <td>UAE</td>\n",
       "    </tr>\n",
       "    <tr>\n",
       "      <th>27194</th>\n",
       "      <td>2021-04-27 00:00:00 GST</td>\n",
       "      <td>High Schoolers</td>\n",
       "      <td>Binghatti JVC - Ramadan - UAE</td>\n",
       "      <td>0</td>\n",
       "      <td>0.0</td>\n",
       "      <td>0.0</td>\n",
       "      <td>0</td>\n",
       "      <td>0.0</td>\n",
       "      <td>0.0</td>\n",
       "      <td>2021-04-27</td>\n",
       "      <td>UAE</td>\n",
       "    </tr>\n",
       "    <tr>\n",
       "      <th>27290</th>\n",
       "      <td>2021-04-27 00:00:00 GST</td>\n",
       "      <td>Casino Visitors</td>\n",
       "      <td>Binghatti JVC - Ramadan - UAE</td>\n",
       "      <td>0</td>\n",
       "      <td>0.0</td>\n",
       "      <td>0.0</td>\n",
       "      <td>0</td>\n",
       "      <td>0.0</td>\n",
       "      <td>0.0</td>\n",
       "      <td>2021-04-27</td>\n",
       "      <td>UAE</td>\n",
       "    </tr>\n",
       "    <tr>\n",
       "      <th>27312</th>\n",
       "      <td>2021-04-28 00:00:00 GST</td>\n",
       "      <td>High Schoolers</td>\n",
       "      <td>Binghatti JVC - Ramadan - UAE</td>\n",
       "      <td>0</td>\n",
       "      <td>0.0</td>\n",
       "      <td>0.0</td>\n",
       "      <td>0</td>\n",
       "      <td>0.0</td>\n",
       "      <td>0.0</td>\n",
       "      <td>2021-04-28</td>\n",
       "      <td>UAE</td>\n",
       "    </tr>\n",
       "    <tr>\n",
       "      <th>27430</th>\n",
       "      <td>2021-04-29 00:00:00 GST</td>\n",
       "      <td>High Schoolers</td>\n",
       "      <td>Binghatti JVC - Ramadan - UAE</td>\n",
       "      <td>0</td>\n",
       "      <td>0.0</td>\n",
       "      <td>0.0</td>\n",
       "      <td>0</td>\n",
       "      <td>0.0</td>\n",
       "      <td>0.0</td>\n",
       "      <td>2021-04-29</td>\n",
       "      <td>UAE</td>\n",
       "    </tr>\n",
       "  </tbody>\n",
       "</table>\n",
       "<p>224 rows × 11 columns</p>\n",
       "</div>"
      ],
      "text/plain": [
       "                    Start Time Lifestyle Category  \\\n",
       "9      2021-04-01 00:00:00 GST     High Schoolers   \n",
       "127    2021-04-02 00:00:00 GST     High Schoolers   \n",
       "245    2021-04-03 00:00:00 GST     High Schoolers   \n",
       "341    2021-04-03 00:00:00 GST    Casino Visitors   \n",
       "356    2021-04-05 00:00:00 GST    Social Drinkers   \n",
       "...                        ...                ...   \n",
       "27172  2021-04-26 00:00:00 GST    Casino Visitors   \n",
       "27194  2021-04-27 00:00:00 GST     High Schoolers   \n",
       "27290  2021-04-27 00:00:00 GST    Casino Visitors   \n",
       "27312  2021-04-28 00:00:00 GST     High Schoolers   \n",
       "27430  2021-04-29 00:00:00 GST     High Schoolers   \n",
       "\n",
       "                       Campaign Name  Paid Impressions  Amount Spent  \\\n",
       "9                Sobha - 3ayar - UAE                 0           0.0   \n",
       "127              Sobha - 3ayar - UAE                 0           0.0   \n",
       "245              Sobha - 3ayar - UAE                 0           0.0   \n",
       "341              Sobha - 3ayar - UAE                 0           0.0   \n",
       "356              Sobha - 3ayar - UAE                 0           0.0   \n",
       "...                              ...               ...           ...   \n",
       "27172  Binghatti JVC - Ramadan - UAE                 0           0.0   \n",
       "27194  Binghatti JVC - Ramadan - UAE                 0           0.0   \n",
       "27290  Binghatti JVC - Ramadan - UAE                 0           0.0   \n",
       "27312  Binghatti JVC - Ramadan - UAE                 0           0.0   \n",
       "27430  Binghatti JVC - Ramadan - UAE                 0           0.0   \n",
       "\n",
       "       Paid eCPM  Swipe Ups  eCPSU  Swipe Up Rate       Date Region  \n",
       "9            0.0          0    0.0            0.0 2021-04-01    UAE  \n",
       "127          0.0          0    0.0            0.0 2021-04-02    UAE  \n",
       "245          0.0          0    0.0            0.0 2021-04-03    UAE  \n",
       "341          0.0          0    0.0            0.0 2021-04-03    UAE  \n",
       "356          0.0          0    0.0            0.0 2021-04-05    UAE  \n",
       "...          ...        ...    ...            ...        ...    ...  \n",
       "27172        0.0          0    0.0            0.0 2021-04-26    UAE  \n",
       "27194        0.0          0    0.0            0.0 2021-04-27    UAE  \n",
       "27290        0.0          0    0.0            0.0 2021-04-27    UAE  \n",
       "27312        0.0          0    0.0            0.0 2021-04-28    UAE  \n",
       "27430        0.0          0    0.0            0.0 2021-04-29    UAE  \n",
       "\n",
       "[224 rows x 11 columns]"
      ]
     },
     "execution_count": 21,
     "metadata": {},
     "output_type": "execute_result"
    }
   ],
   "source": [
    "## Following rows contain no information in Numerical columns\n",
    "## The rows that contain zero value for Paid Impressions, Amount Spent and Paid eCPM contain no value, therefore they will be dropped\n",
    "df[(df['Paid Impressions'] + df['Amount Spent'] + df['Paid eCPM'] + df['Swipe Ups']) == 0]"
   ]
  },
  {
   "cell_type": "code",
   "execution_count": 22,
   "id": "954061a5",
   "metadata": {},
   "outputs": [],
   "source": [
    "## Dropping Above rows\n",
    "df.drop(df[(df['Paid Impressions'] + df['Amount Spent'] + df['Paid eCPM'] + df['Swipe Ups']) == 0].index, axis=0, inplace=True)"
   ]
  },
  {
   "cell_type": "code",
   "execution_count": 23,
   "id": "7e2343d7",
   "metadata": {},
   "outputs": [
    {
     "data": {
      "text/html": [
       "<div>\n",
       "<style scoped>\n",
       "    .dataframe tbody tr th:only-of-type {\n",
       "        vertical-align: middle;\n",
       "    }\n",
       "\n",
       "    .dataframe tbody tr th {\n",
       "        vertical-align: top;\n",
       "    }\n",
       "\n",
       "    .dataframe thead th {\n",
       "        text-align: right;\n",
       "    }\n",
       "</style>\n",
       "<table border=\"1\" class=\"dataframe\">\n",
       "  <thead>\n",
       "    <tr style=\"text-align: right;\">\n",
       "      <th></th>\n",
       "      <th>Start Time</th>\n",
       "      <th>Lifestyle Category</th>\n",
       "      <th>Campaign Name</th>\n",
       "      <th>Paid Impressions</th>\n",
       "      <th>Amount Spent</th>\n",
       "      <th>Paid eCPM</th>\n",
       "      <th>Swipe Ups</th>\n",
       "      <th>eCPSU</th>\n",
       "      <th>Swipe Up Rate</th>\n",
       "      <th>Date</th>\n",
       "      <th>Region</th>\n",
       "      <th>lifestyle_encoded</th>\n",
       "      <th>campaign_encoded</th>\n",
       "      <th>region_encoded</th>\n",
       "    </tr>\n",
       "  </thead>\n",
       "  <tbody>\n",
       "    <tr>\n",
       "      <th>0</th>\n",
       "      <td>2021-04-01 00:00:00 GST</td>\n",
       "      <td>Women's Lifestyle</td>\n",
       "      <td>Sobha - 3ayar - UAE</td>\n",
       "      <td>14158</td>\n",
       "      <td>55.67</td>\n",
       "      <td>3.93</td>\n",
       "      <td>56</td>\n",
       "      <td>0.99</td>\n",
       "      <td>0.0040</td>\n",
       "      <td>2021-04-01</td>\n",
       "      <td>UAE</td>\n",
       "      <td>115</td>\n",
       "      <td>11</td>\n",
       "      <td>1</td>\n",
       "    </tr>\n",
       "    <tr>\n",
       "      <th>1</th>\n",
       "      <td>2021-04-01 00:00:00 GST</td>\n",
       "      <td>Automotive Shoppers</td>\n",
       "      <td>Sobha - 3ayar - UAE</td>\n",
       "      <td>16091</td>\n",
       "      <td>56.39</td>\n",
       "      <td>3.50</td>\n",
       "      <td>64</td>\n",
       "      <td>0.88</td>\n",
       "      <td>0.0040</td>\n",
       "      <td>2021-04-01</td>\n",
       "      <td>UAE</td>\n",
       "      <td>6</td>\n",
       "      <td>11</td>\n",
       "      <td>1</td>\n",
       "    </tr>\n",
       "    <tr>\n",
       "      <th>2</th>\n",
       "      <td>2021-04-01 00:00:00 GST</td>\n",
       "      <td>Social Drinkers</td>\n",
       "      <td>Sobha - 3ayar - UAE</td>\n",
       "      <td>97</td>\n",
       "      <td>0.25</td>\n",
       "      <td>2.55</td>\n",
       "      <td>1</td>\n",
       "      <td>0.25</td>\n",
       "      <td>0.0103</td>\n",
       "      <td>2021-04-01</td>\n",
       "      <td>UAE</td>\n",
       "      <td>97</td>\n",
       "      <td>11</td>\n",
       "      <td>1</td>\n",
       "    </tr>\n",
       "    <tr>\n",
       "      <th>3</th>\n",
       "      <td>2021-04-01 00:00:00 GST</td>\n",
       "      <td>Beer Drinkers</td>\n",
       "      <td>Sobha - 3ayar - UAE</td>\n",
       "      <td>39</td>\n",
       "      <td>0.15</td>\n",
       "      <td>3.89</td>\n",
       "      <td>0</td>\n",
       "      <td>0.00</td>\n",
       "      <td>0.0000</td>\n",
       "      <td>2021-04-01</td>\n",
       "      <td>UAE</td>\n",
       "      <td>11</td>\n",
       "      <td>11</td>\n",
       "      <td>1</td>\n",
       "    </tr>\n",
       "    <tr>\n",
       "      <th>4</th>\n",
       "      <td>2021-04-01 00:00:00 GST</td>\n",
       "      <td>Wine Enthusiasts</td>\n",
       "      <td>Sobha - 3ayar - UAE</td>\n",
       "      <td>17</td>\n",
       "      <td>0.05</td>\n",
       "      <td>2.85</td>\n",
       "      <td>0</td>\n",
       "      <td>0.00</td>\n",
       "      <td>0.0000</td>\n",
       "      <td>2021-04-01</td>\n",
       "      <td>UAE</td>\n",
       "      <td>114</td>\n",
       "      <td>11</td>\n",
       "      <td>1</td>\n",
       "    </tr>\n",
       "  </tbody>\n",
       "</table>\n",
       "</div>"
      ],
      "text/plain": [
       "                Start Time   Lifestyle Category        Campaign Name  \\\n",
       "0  2021-04-01 00:00:00 GST    Women's Lifestyle  Sobha - 3ayar - UAE   \n",
       "1  2021-04-01 00:00:00 GST  Automotive Shoppers  Sobha - 3ayar - UAE   \n",
       "2  2021-04-01 00:00:00 GST      Social Drinkers  Sobha - 3ayar - UAE   \n",
       "3  2021-04-01 00:00:00 GST        Beer Drinkers  Sobha - 3ayar - UAE   \n",
       "4  2021-04-01 00:00:00 GST     Wine Enthusiasts  Sobha - 3ayar - UAE   \n",
       "\n",
       "   Paid Impressions  Amount Spent  Paid eCPM  Swipe Ups  eCPSU  Swipe Up Rate  \\\n",
       "0             14158         55.67       3.93         56   0.99         0.0040   \n",
       "1             16091         56.39       3.50         64   0.88         0.0040   \n",
       "2                97          0.25       2.55          1   0.25         0.0103   \n",
       "3                39          0.15       3.89          0   0.00         0.0000   \n",
       "4                17          0.05       2.85          0   0.00         0.0000   \n",
       "\n",
       "        Date Region  lifestyle_encoded  campaign_encoded  region_encoded  \n",
       "0 2021-04-01    UAE                115                11               1  \n",
       "1 2021-04-01    UAE                  6                11               1  \n",
       "2 2021-04-01    UAE                 97                11               1  \n",
       "3 2021-04-01    UAE                 11                11               1  \n",
       "4 2021-04-01    UAE                114                11               1  "
      ]
     },
     "execution_count": 23,
     "metadata": {},
     "output_type": "execute_result"
    }
   ],
   "source": [
    "### Applying Label Encoder (Categorical Columns)\n",
    "\n",
    "\n",
    "from sklearn.preprocessing import LabelEncoder\n",
    "\n",
    "#### Label Encoder - Lifestyle Column\n",
    "\n",
    "lb_lifestyle = LabelEncoder()\n",
    "df['lifestyle_encoded'] = lb_lifestyle.fit_transform(df['Lifestyle Category'])\n",
    "\n",
    "#### Label Encoder - Campaign Name\n",
    "\n",
    "lb_campaign = LabelEncoder()\n",
    "df['campaign_encoded'] = lb_campaign.fit_transform(df['Campaign Name'])\n",
    "\n",
    "#### Label Encoder - Region\n",
    "\n",
    "lb_region = LabelEncoder()\n",
    "df['region_encoded'] = lb_region.fit_transform(df['Region'])\n",
    "\n",
    "df.head()"
   ]
  },
  {
   "cell_type": "code",
   "execution_count": 24,
   "id": "cd055f36",
   "metadata": {},
   "outputs": [],
   "source": [
    "#### Normalizing the Numerical columns\n",
    "\n",
    "from sklearn.preprocessing import MinMaxScaler\n",
    "\n",
    "## Extracting Numerical Columns\n",
    "x = df[['Paid Impressions', 'Amount Spent', 'Paid eCPM', 'eCPSU', 'Swipe Up Rate', 'Swipe Ups' ]].values #returns an array with mumpy\n",
    "min_max_scaler = MinMaxScaler()\n",
    "x_scaled = min_max_scaler.fit_transform(x)\n",
    "df_numerical = pd.DataFrame(x_scaled)"
   ]
  },
  {
   "cell_type": "code",
   "execution_count": 25,
   "id": "1d8c8df0",
   "metadata": {},
   "outputs": [],
   "source": [
    "## Replacing the original values in dataset with normalized values from the above temp df\n",
    "df['Paid Impressions'] = df_numerical[0]\n",
    "df['Amount Spent'] = df_numerical[1]\n",
    "df['Paid eCPM'] = df_numerical[2]\n",
    "df['eCPSU'] = df_numerical[3]\n",
    "df['Swipe Up Rate'] = df_numerical[4]\n"
   ]
  },
  {
   "cell_type": "code",
   "execution_count": 29,
   "id": "dfab9429",
   "metadata": {},
   "outputs": [],
   "source": [
    "df['Swipe Ups'] = df_numerical[5]\n"
   ]
  },
  {
   "cell_type": "code",
   "execution_count": 30,
   "id": "036eb94d",
   "metadata": {},
   "outputs": [],
   "source": [
    "# Dropping Null Values resulted from normalization\n",
    "df.drop(df[df['Paid Impressions'].isnull().values].index, axis=0, inplace=True)\n",
    "df.drop(df[df['Amount Spent'].isnull().values].index, axis=0, inplace=True)\n",
    "df.drop(df[df['Paid eCPM'].isnull().values].index, axis=0, inplace=True)\n",
    "df.drop(df[df['Swipe Ups'].isnull().values].index, axis=0, inplace=True)\n",
    "df.drop(df[df['eCPSU'].isnull().values].index, axis=0, inplace=True)\n",
    "df.drop(df[df['Swipe Up Rate'].isnull().values].index, axis=0, inplace=True)\n"
   ]
  },
  {
   "cell_type": "code",
   "execution_count": 31,
   "id": "a183ef5a",
   "metadata": {},
   "outputs": [
    {
     "data": {
      "text/html": [
       "<div>\n",
       "<style scoped>\n",
       "    .dataframe tbody tr th:only-of-type {\n",
       "        vertical-align: middle;\n",
       "    }\n",
       "\n",
       "    .dataframe tbody tr th {\n",
       "        vertical-align: top;\n",
       "    }\n",
       "\n",
       "    .dataframe thead th {\n",
       "        text-align: right;\n",
       "    }\n",
       "</style>\n",
       "<table border=\"1\" class=\"dataframe\">\n",
       "  <thead>\n",
       "    <tr style=\"text-align: right;\">\n",
       "      <th></th>\n",
       "      <th>Start Time</th>\n",
       "      <th>Lifestyle Category</th>\n",
       "      <th>Campaign Name</th>\n",
       "      <th>Paid Impressions</th>\n",
       "      <th>Amount Spent</th>\n",
       "      <th>Paid eCPM</th>\n",
       "      <th>Swipe Ups</th>\n",
       "      <th>eCPSU</th>\n",
       "      <th>Swipe Up Rate</th>\n",
       "      <th>Date</th>\n",
       "      <th>Region</th>\n",
       "      <th>lifestyle_encoded</th>\n",
       "      <th>campaign_encoded</th>\n",
       "      <th>region_encoded</th>\n",
       "      <th>Swip Ups</th>\n",
       "    </tr>\n",
       "  </thead>\n",
       "  <tbody>\n",
       "    <tr>\n",
       "      <th>0</th>\n",
       "      <td>2021-04-01 00:00:00 GST</td>\n",
       "      <td>Women's Lifestyle</td>\n",
       "      <td>Sobha - 3ayar - UAE</td>\n",
       "      <td>0.051223</td>\n",
       "      <td>0.066047</td>\n",
       "      <td>0.078131</td>\n",
       "      <td>0.035737</td>\n",
       "      <td>0.105544</td>\n",
       "      <td>0.0040</td>\n",
       "      <td>2021-04-01</td>\n",
       "      <td>UAE</td>\n",
       "      <td>115</td>\n",
       "      <td>11</td>\n",
       "      <td>1</td>\n",
       "      <td>0.035737</td>\n",
       "    </tr>\n",
       "    <tr>\n",
       "      <th>1</th>\n",
       "      <td>2021-04-01 00:00:00 GST</td>\n",
       "      <td>Automotive Shoppers</td>\n",
       "      <td>Sobha - 3ayar - UAE</td>\n",
       "      <td>0.058216</td>\n",
       "      <td>0.066902</td>\n",
       "      <td>0.069583</td>\n",
       "      <td>0.040842</td>\n",
       "      <td>0.093817</td>\n",
       "      <td>0.0040</td>\n",
       "      <td>2021-04-01</td>\n",
       "      <td>UAE</td>\n",
       "      <td>6</td>\n",
       "      <td>11</td>\n",
       "      <td>1</td>\n",
       "      <td>0.040842</td>\n",
       "    </tr>\n",
       "    <tr>\n",
       "      <th>2</th>\n",
       "      <td>2021-04-01 00:00:00 GST</td>\n",
       "      <td>Social Drinkers</td>\n",
       "      <td>Sobha - 3ayar - UAE</td>\n",
       "      <td>0.000351</td>\n",
       "      <td>0.000297</td>\n",
       "      <td>0.050696</td>\n",
       "      <td>0.000638</td>\n",
       "      <td>0.026652</td>\n",
       "      <td>0.0103</td>\n",
       "      <td>2021-04-01</td>\n",
       "      <td>UAE</td>\n",
       "      <td>97</td>\n",
       "      <td>11</td>\n",
       "      <td>1</td>\n",
       "      <td>0.000638</td>\n",
       "    </tr>\n",
       "    <tr>\n",
       "      <th>3</th>\n",
       "      <td>2021-04-01 00:00:00 GST</td>\n",
       "      <td>Beer Drinkers</td>\n",
       "      <td>Sobha - 3ayar - UAE</td>\n",
       "      <td>0.000141</td>\n",
       "      <td>0.000178</td>\n",
       "      <td>0.077336</td>\n",
       "      <td>0.000000</td>\n",
       "      <td>0.000000</td>\n",
       "      <td>0.0000</td>\n",
       "      <td>2021-04-01</td>\n",
       "      <td>UAE</td>\n",
       "      <td>11</td>\n",
       "      <td>11</td>\n",
       "      <td>1</td>\n",
       "      <td>0.000000</td>\n",
       "    </tr>\n",
       "    <tr>\n",
       "      <th>4</th>\n",
       "      <td>2021-04-01 00:00:00 GST</td>\n",
       "      <td>Wine Enthusiasts</td>\n",
       "      <td>Sobha - 3ayar - UAE</td>\n",
       "      <td>0.000062</td>\n",
       "      <td>0.000059</td>\n",
       "      <td>0.056660</td>\n",
       "      <td>0.000000</td>\n",
       "      <td>0.000000</td>\n",
       "      <td>0.0000</td>\n",
       "      <td>2021-04-01</td>\n",
       "      <td>UAE</td>\n",
       "      <td>114</td>\n",
       "      <td>11</td>\n",
       "      <td>1</td>\n",
       "      <td>0.000000</td>\n",
       "    </tr>\n",
       "  </tbody>\n",
       "</table>\n",
       "</div>"
      ],
      "text/plain": [
       "                Start Time   Lifestyle Category        Campaign Name  \\\n",
       "0  2021-04-01 00:00:00 GST    Women's Lifestyle  Sobha - 3ayar - UAE   \n",
       "1  2021-04-01 00:00:00 GST  Automotive Shoppers  Sobha - 3ayar - UAE   \n",
       "2  2021-04-01 00:00:00 GST      Social Drinkers  Sobha - 3ayar - UAE   \n",
       "3  2021-04-01 00:00:00 GST        Beer Drinkers  Sobha - 3ayar - UAE   \n",
       "4  2021-04-01 00:00:00 GST     Wine Enthusiasts  Sobha - 3ayar - UAE   \n",
       "\n",
       "   Paid Impressions  Amount Spent  Paid eCPM  Swipe Ups     eCPSU  \\\n",
       "0          0.051223      0.066047   0.078131   0.035737  0.105544   \n",
       "1          0.058216      0.066902   0.069583   0.040842  0.093817   \n",
       "2          0.000351      0.000297   0.050696   0.000638  0.026652   \n",
       "3          0.000141      0.000178   0.077336   0.000000  0.000000   \n",
       "4          0.000062      0.000059   0.056660   0.000000  0.000000   \n",
       "\n",
       "   Swipe Up Rate       Date Region  lifestyle_encoded  campaign_encoded  \\\n",
       "0         0.0040 2021-04-01    UAE                115                11   \n",
       "1         0.0040 2021-04-01    UAE                  6                11   \n",
       "2         0.0103 2021-04-01    UAE                 97                11   \n",
       "3         0.0000 2021-04-01    UAE                 11                11   \n",
       "4         0.0000 2021-04-01    UAE                114                11   \n",
       "\n",
       "   region_encoded  Swip Ups  \n",
       "0               1  0.035737  \n",
       "1               1  0.040842  \n",
       "2               1  0.000638  \n",
       "3               1  0.000000  \n",
       "4               1  0.000000  "
      ]
     },
     "execution_count": 31,
     "metadata": {},
     "output_type": "execute_result"
    }
   ],
   "source": [
    "df.head()"
   ]
  },
  {
   "cell_type": "markdown",
   "id": "d3b87286",
   "metadata": {},
   "source": [
    "## Preparing Data for Modelling \n"
   ]
  },
  {
   "cell_type": "code",
   "execution_count": 80,
   "id": "4bef0d27",
   "metadata": {},
   "outputs": [],
   "source": [
    "## Seperating independant varabiles (Features) an depandant variable  (Target Variable)\n",
    "#X_main = df[['Paid Impressions', 'Amount Spent', 'lifestyle_encoded', 'campaign_encoded', 'region_encoded' ,'Paid eCPM', 'eCPSU', 'Swipe Up Rate' ]]\n",
    "X_main = df[['Paid Impressions', 'Amount Spent' ,'Paid eCPM' , 'lifestyle_encoded', 'campaign_encoded', 'region_encoded' ]]\n",
    "#X_main = df[['Paid Impressions', 'Amount Spent', 'lifestyle_encoded', 'campaign_encoded', 'region_encoded' ,'Paid eCPM' ]]\n",
    "\n",
    "\n",
    "y_main = df[['Swipe Ups']]\n",
    "\n",
    "X = X_main\n",
    "y = y_main\n",
    "\n",
    "\n"
   ]
  },
  {
   "cell_type": "code",
   "execution_count": 81,
   "id": "e4bb8b7f",
   "metadata": {},
   "outputs": [
    {
     "name": "stdout",
     "output_type": "stream",
     "text": [
      "Train Data Shape:  (21791, 6) (9339, 6)\n",
      "Test Data Shape:  (21791, 1) (9339, 1)\n"
     ]
    }
   ],
   "source": [
    "from sklearn.model_selection import train_test_split\n",
    "\n",
    "## Splitting the data into test and train with 25% as the test size\n",
    "X_train, X_test, y_train, y_test = train_test_split(X, y, test_size=0.3, random_state=20)\n",
    "print(\"Train Data Shape: \", X_train.shape, X_test.shape)\n",
    "print(\"Test Data Shape: \", y_train.shape, y_test.shape)"
   ]
  },
  {
   "cell_type": "code",
   "execution_count": 82,
   "id": "84dc52e7",
   "metadata": {},
   "outputs": [
    {
     "name": "stdout",
     "output_type": "stream",
     "text": [
      "Train Data Shape:  (21791, 6) (9339, 6)\n",
      "Test Data Shape:  (21791, 1) (9339, 1)\n"
     ]
    }
   ],
   "source": [
    "# Checking the effect of this in compare to the shapes before hand.\n",
    "\n",
    "print(\"Train Data Shape: \", X_train.shape, X_test.shape)\n",
    "print(\"Test Data Shape: \", y_train.shape, y_test.shape)"
   ]
  },
  {
   "cell_type": "markdown",
   "id": "ac44380e",
   "metadata": {},
   "source": [
    "# Modelling \n"
   ]
  },
  {
   "cell_type": "markdown",
   "id": "f50ddc45",
   "metadata": {},
   "source": [
    "### Baseline"
   ]
  },
  {
   "cell_type": "code",
   "execution_count": 83,
   "id": "1ac92cfc",
   "metadata": {},
   "outputs": [
    {
     "data": {
      "text/plain": [
       "-0.00014907394519170225"
      ]
     },
     "execution_count": 83,
     "metadata": {},
     "output_type": "execute_result"
    }
   ],
   "source": [
    "from sklearn.dummy import DummyRegressor\n",
    "dummy_regr = DummyRegressor(strategy=\"mean\")\n",
    "dummy_regr.fit(X_train, y_train)\n",
    "dummy_regr.score(X_test, y_test)"
   ]
  },
  {
   "cell_type": "markdown",
   "id": "20b4f2aa",
   "metadata": {},
   "source": [
    "### Modeling "
   ]
  },
  {
   "cell_type": "markdown",
   "id": "73017078",
   "metadata": {},
   "source": [
    "#### Linear Regression Via Stats Models"
   ]
  },
  {
   "cell_type": "code",
   "execution_count": 84,
   "id": "cba6245e",
   "metadata": {},
   "outputs": [],
   "source": [
    "import statsmodels.api as sm\n"
   ]
  },
  {
   "cell_type": "code",
   "execution_count": 85,
   "id": "6409b0fb",
   "metadata": {},
   "outputs": [],
   "source": [
    "from sklearn.linear_model import LinearRegression\n",
    "linear_regressor = LinearRegression(fit_intercept=True, normalize=False, copy_X=True)\n",
    "\n"
   ]
  },
  {
   "cell_type": "code",
   "execution_count": 86,
   "id": "9f3be373",
   "metadata": {},
   "outputs": [
    {
     "name": "stdout",
     "output_type": "stream",
     "text": [
      "                            OLS Regression Results                            \n",
      "==============================================================================\n",
      "Dep. Variable:              Swipe Ups   R-squared:                       0.929\n",
      "Model:                            OLS   Adj. R-squared:                  0.928\n",
      "Method:                 Least Squares   F-statistic:                 4.715e+04\n",
      "Date:                Sun, 02 May 2021   Prob (F-statistic):               0.00\n",
      "Time:                        02:20:36   Log-Likelihood:                 60809.\n",
      "No. Observations:               21791   AIC:                        -1.216e+05\n",
      "Df Residuals:                   21784   BIC:                        -1.215e+05\n",
      "Df Model:                           6                                         \n",
      "Covariance Type:            nonrobust                                         \n",
      "=====================================================================================\n",
      "                        coef    std err          t      P>|t|      [0.025      0.975]\n",
      "-------------------------------------------------------------------------------------\n",
      "const                 0.0058      0.001     10.667      0.000       0.005       0.007\n",
      "Paid Impressions      0.8890      0.015     59.904      0.000       0.860       0.918\n",
      "Amount Spent          0.4223      0.015     28.369      0.000       0.393       0.451\n",
      "Paid eCPM            -0.0133      0.004     -3.272      0.001      -0.021      -0.005\n",
      "lifestyle_encoded -6.541e-06   2.95e-06     -2.218      0.027   -1.23e-05    -7.6e-07\n",
      "campaign_encoded     -0.0007    1.9e-05    -37.286      0.000      -0.001      -0.001\n",
      "region_encoded        0.0021      0.000      6.490      0.000       0.001       0.003\n",
      "==============================================================================\n",
      "Omnibus:                    12494.001   Durbin-Watson:                   1.984\n",
      "Prob(Omnibus):                  0.000   Jarque-Bera (JB):          2205462.462\n",
      "Skew:                           1.699   Prob(JB):                         0.00\n",
      "Kurtosis:                      52.168   Cond. No.                     1.42e+04\n",
      "==============================================================================\n",
      "\n",
      "Notes:\n",
      "[1] Standard Errors assume that the covariance matrix of the errors is correctly specified.\n",
      "[2] The condition number is large, 1.42e+04. This might indicate that there are\n",
      "strong multicollinearity or other numerical problems.\n"
     ]
    }
   ],
   "source": [
    "model = sm.OLS(y_train, sm.add_constant(X_train)).fit()\n",
    "print(model.summary())\n"
   ]
  },
  {
   "cell_type": "markdown",
   "id": "81733e83",
   "metadata": {},
   "source": [
    "#### Ridge Regression"
   ]
  },
  {
   "cell_type": "code",
   "execution_count": 87,
   "id": "33f02d6b",
   "metadata": {},
   "outputs": [
    {
     "name": "stdout",
     "output_type": "stream",
     "text": [
      "Train score:  0.9279750856251843\n",
      "Test score:  0.9253900427904115\n"
     ]
    }
   ],
   "source": [
    "from sklearn.linear_model import Ridge\n",
    "\n",
    "clf_ridge = Ridge(alpha=1.0)\n",
    "\n",
    "# training the model\n",
    "clf_ridge.fit(X_train, y_train)\n",
    "\n",
    "#results\n",
    "\n",
    "print(\"Train score: \", clf_ridge.score(X_train, y_train))\n",
    "print(\"Test score: \",clf_ridge.score(X_test, y_test))"
   ]
  },
  {
   "cell_type": "code",
   "execution_count": 88,
   "id": "6ffb997e",
   "metadata": {},
   "outputs": [
    {
     "name": "stdout",
     "output_type": "stream",
     "text": [
      "Mean MAE: 0.008 (0.000)\n",
      "R2: 0.927 (0.003)\n"
     ]
    }
   ],
   "source": [
    "\n",
    "from sklearn.linear_model import Ridge\n",
    "\n",
    "clf_ridge = Ridge(alpha=1.0)\n",
    "\n",
    "cv = RepeatedKFold(n_splits=5, n_repeats=3, random_state=1)\n",
    "# evaluate model\n",
    "\n",
    "\n",
    "\n",
    "scoring = ['neg_mean_absolute_error', 'r2']\n",
    "for score in scoring:\n",
    "    scores = cross_val_score(clf_ridge, X, y, scoring=score, cv=cv, n_jobs=-1)\n",
    "    if score == \"neg_mean_absolute_error\":\n",
    "        scores = absolute(scores)\n",
    "        print('Mean MAE: %.3f (%.3f)' % (mean(scores), std(scores)))\n",
    "    else:\n",
    "        print('R2: %.3f (%.3f)' % (mean(scores), std(scores)))\n",
    "\n"
   ]
  },
  {
   "cell_type": "markdown",
   "id": "f11ca60f",
   "metadata": {},
   "source": [
    "###  Support Vector Regression"
   ]
  },
  {
   "cell_type": "code",
   "execution_count": 90,
   "id": "66796351",
   "metadata": {},
   "outputs": [
    {
     "name": "stderr",
     "output_type": "stream",
     "text": [
      "/Library/Frameworks/Python.framework/Versions/3.8/lib/python3.8/site-packages/sklearn/utils/validation.py:63: DataConversionWarning: A column-vector y was passed when a 1d array was expected. Please change the shape of y to (n_samples, ), for example using ravel().\n",
      "  return f(*args, **kwargs)\n"
     ]
    },
    {
     "name": "stdout",
     "output_type": "stream",
     "text": [
      "Train score:  -1.1568621481541523\n",
      "Test score:  -1.317463641385062\n"
     ]
    }
   ],
   "source": [
    "from sklearn.svm import SVR\n",
    "\n",
    "clf_svr2 = SVR()\n",
    "\n",
    "# training the model\n",
    "clf_svr2.fit(X_train, y_train)\n",
    "\n",
    "#results\n",
    "\n",
    "print(\"Train score: \", clf_svr2.score(X_train, y_train))\n",
    "print(\"Test score: \", clf_svr2.score(X_test, y_test))"
   ]
  },
  {
   "cell_type": "code",
   "execution_count": 89,
   "id": "e7d52601",
   "metadata": {},
   "outputs": [
    {
     "name": "stdout",
     "output_type": "stream",
     "text": [
      "Mean MAE: 0.074 (0.001)\n",
      "R2: -1.166 (0.088)\n"
     ]
    }
   ],
   "source": [
    "\n",
    "clf_svr = SVR()\n",
    "\n",
    "cv = RepeatedKFold(n_splits=5, n_repeats=3, random_state=1)\n",
    "# evaluate model\n",
    "scoring = ['neg_mean_absolute_error', 'r2']\n",
    "for score in scoring:\n",
    "    scores = cross_val_score(clf_svr, X_train, y_train, scoring=score, cv=cv, n_jobs=-1)\n",
    "    if score == \"neg_mean_absolute_error\":\n",
    "        scores = absolute(scores)\n",
    "        print('Mean MAE: %.3f (%.3f)' % (mean(scores), std(scores)))\n",
    "    else:\n",
    "        print('R2: %.3f (%.3f)' % (mean(scores), std(scores)))"
   ]
  },
  {
   "cell_type": "markdown",
   "id": "2a5dd836",
   "metadata": {},
   "source": [
    "#### Decision Tree"
   ]
  },
  {
   "cell_type": "code",
   "execution_count": 93,
   "id": "2156a228",
   "metadata": {
    "scrolled": true
   },
   "outputs": [
    {
     "name": "stdout",
     "output_type": "stream",
     "text": [
      "Train score:  1.0\n",
      "Test score:  0.9049279777935209\n"
     ]
    }
   ],
   "source": [
    "from sklearn.tree import DecisionTreeRegressor\n",
    "\n",
    "dtr = DecisionTreeRegressor()\n",
    "\n",
    "# training the model\n",
    "dtr.fit(X_train, y_train)\n",
    "\n",
    "#results\n",
    "\n",
    "print(\"Train score: \", dtr.score(X_train, y_train))\n",
    "print(\"Test score: \",dtr.score(X_test, y_test))"
   ]
  },
  {
   "cell_type": "code",
   "execution_count": 134,
   "id": "b6eff5e7",
   "metadata": {},
   "outputs": [
    {
     "name": "stdout",
     "output_type": "stream",
     "text": [
      "Mean MAE: 0.008 (0.000)\n",
      "R2: 0.917 (0.006)\n"
     ]
    }
   ],
   "source": [
    "# Decision Tree with cross Validation \n",
    "\n",
    "dtr = DecisionTreeRegressor()\n",
    "\n",
    "cv = RepeatedKFold(n_splits=5, n_repeats=3, random_state=1)\n",
    "# evaluate model\n",
    "\n",
    "\n",
    "\n",
    "scoring = ['neg_mean_absolute_error', 'r2']\n",
    "for score in scoring:\n",
    "    scores = cross_val_score(dtr, X, y, scoring=score, cv=cv, n_jobs=-1)\n",
    "    if score == \"neg_mean_absolute_error\":\n",
    "        scores = absolute(scores)\n",
    "        print('Mean MAE: %.3f (%.3f)' % (mean(scores), std(scores)))\n",
    "    else:\n",
    "        print('R2: %.3f (%.3f)' % (mean(scores), std(scores)))\n"
   ]
  },
  {
   "cell_type": "code",
   "execution_count": 114,
   "id": "972aa927",
   "metadata": {},
   "outputs": [
    {
     "data": {
      "image/png": "[encoded data removed]",
      "text/plain": [
       "<Figure size 432x288 with 1 Axes>"
      ]
     },
     "metadata": {
      "needs_background": "light"
     },
     "output_type": "display_data"
    }
   ],
   "source": [
    "#Decision Tree Tuning\n",
    "from sklearn.metrics import mean_squared_error\n",
    "\n",
    "max_depths = range(1, 20)\n",
    "training_error = []\n",
    "for max_depth in max_depths:\n",
    "    model_1 = DecisionTreeRegressor(max_depth=max_depth)\n",
    "    model_1.fit(X, y)\n",
    "    training_error.append(mean_squared_error(y, model_1.predict(X)))\n",
    "    \n",
    "testing_error = []\n",
    "for max_depth in max_depths:\n",
    "    model_2 = DecisionTreeRegressor(max_depth=max_depth)\n",
    "    model_2.fit(X_train, y_train)\n",
    "    testing_error.append(mean_squared_error(y_test, model_2.predict(X_test)))\n",
    "\n",
    "plt.plot(max_depths, training_error, color='blue', label='Training error')\n",
    "plt.plot(max_depths, testing_error, color='green', label='Testing error')\n",
    "plt.xlabel('Tree depth')\n",
    "plt.axvline(x=3, color='orange', linestyle='--')\n",
    "plt.annotate('optimum = 3', xy=(3.2, 1.17), color='red')\n",
    "plt.ylabel('Mean squared error')\n",
    "plt.title('Hyperparameter Tuning', pad=15, size=15)\n",
    "plt.legend()\n",
    "plt.savefig('error.png')"
   ]
  },
  {
   "cell_type": "code",
   "execution_count": 113,
   "id": "aa005f5d",
   "metadata": {},
   "outputs": [
    {
     "name": "stdout",
     "output_type": "stream",
     "text": [
      "Train score:  0.8948844046479922\n",
      "Test score:  0.8921206042928919\n"
     ]
    }
   ],
   "source": [
    "# Rerun with tuning max depth\n",
    "\n",
    "from sklearn.tree import DecisionTreeRegressor\n",
    "\n",
    "dtr = DecisionTreeRegressor(max_depth=3)\n",
    "\n",
    "# training the model\n",
    "dtr.fit(X_train, y_train)\n",
    "\n",
    "#results\n",
    "\n",
    "print(\"Train score: \", dtr.score(X_train, y_train))\n",
    "print(\"Test score: \",dtr.score(X_test, y_test))"
   ]
  },
  {
   "cell_type": "code",
   "execution_count": 135,
   "id": "e442a116",
   "metadata": {},
   "outputs": [
    {
     "name": "stdout",
     "output_type": "stream",
     "text": [
      "Mean MAE: 0.010 (0.000)\n",
      "R2: 0.892 (0.008)\n"
     ]
    }
   ],
   "source": [
    "# Decision Tree with cross Validation and Max Depth \n",
    "\n",
    "dtr = DecisionTreeRegressor(max_depth=3)\n",
    "\n",
    "cv = RepeatedKFold(n_splits=5, n_repeats=3, random_state=1)\n",
    "# evaluate model\n",
    "\n",
    "\n",
    "\n",
    "scoring = ['neg_mean_absolute_error', 'r2']\n",
    "for score in scoring:\n",
    "    scores = cross_val_score(dtr, X, y, scoring=score, cv=cv, n_jobs=-1)\n",
    "    if score == \"neg_mean_absolute_error\":\n",
    "        scores = absolute(scores)\n",
    "        print('Mean MAE: %.3f (%.3f)' % (mean(scores), std(scores)))\n",
    "    else:\n",
    "        print('R2: %.3f (%.3f)' % (mean(scores), std(scores)))\n"
   ]
  },
  {
   "cell_type": "markdown",
   "id": "4aea0f65",
   "metadata": {},
   "source": [
    "#### Random Forest Regression"
   ]
  },
  {
   "cell_type": "code",
   "execution_count": 92,
   "id": "4e7e7d3b",
   "metadata": {},
   "outputs": [
    {
     "name": "stderr",
     "output_type": "stream",
     "text": [
      "<ipython-input-92-3e71746afdc1>:5: DataConversionWarning: A column-vector y was passed when a 1d array was expected. Please change the shape of y to (n_samples,), for example using ravel().\n",
      "  clf_rf.fit(X_train, y_train)\n"
     ]
    },
    {
     "name": "stdout",
     "output_type": "stream",
     "text": [
      "Train score:    0.9937744146417065\n",
      "Test score:    0.9486830736922591\n"
     ]
    }
   ],
   "source": [
    "from sklearn.ensemble import RandomForestRegressor\n",
    "\n",
    "clf_rf = RandomForestRegressor()\n",
    "\n",
    "clf_rf.fit(X_train, y_train)\n",
    "y_pred = clf_rf.predict(X_test)\n",
    "\n",
    "print(\"Train score:   \", clf_rf.score(X_train,y_train))\n",
    "print(\"Test score:   \", clf_rf.score(X_test,y_test))"
   ]
  },
  {
   "cell_type": "code",
   "execution_count": 122,
   "id": "9d09a6b0",
   "metadata": {},
   "outputs": [
    {
     "name": "stdout",
     "output_type": "stream",
     "text": [
      "Mean MAE: 0.006 (0.000)\n",
      "R2: 0.954 (0.004)\n"
     ]
    }
   ],
   "source": [
    "from sklearn.ensemble import RandomForestRegressor\n",
    "from sklearn.model_selection import RepeatedKFold\n",
    "from sklearn.model_selection import cross_val_score\n",
    "from numpy import absolute\n",
    "from numpy import mean\n",
    "from numpy import std\n",
    "\n",
    "\n",
    "clf_rf = RandomForestRegressor()\n",
    "\n",
    "cv = RepeatedKFold(n_splits=5, n_repeats=10, random_state=1)\n",
    "\n",
    "\n",
    "# evaluate model\n",
    "\n",
    "\n",
    "scoring = ['neg_mean_absolute_error', 'r2']\n",
    "for score in scoring:\n",
    "    scores = cross_val_score(clf_rf, X_train, y_train, scoring=score, cv=cv, n_jobs=-1)\n",
    "    if score == \"neg_mean_absolute_error\":\n",
    "        scores = absolute(scores)\n",
    "        print('Mean MAE: %.3f (%.3f)' % (mean(scores), std(scores)))\n",
    "    else:\n",
    "        print('R2: %.3f (%.3f)' % (mean(scores), std(scores)))\n",
    "\n"
   ]
  },
  {
   "cell_type": "markdown",
   "id": "141df14f",
   "metadata": {},
   "source": []
  },
  {
   "cell_type": "markdown",
   "id": "72375753",
   "metadata": {},
   "source": [
    "## Optimizing with GridsearchCV"
   ]
  },
  {
   "cell_type": "code",
   "execution_count": 95,
   "id": "9716dba2",
   "metadata": {},
   "outputs": [],
   "source": [
    "from sklearn.model_selection import GridSearchCV\n",
    "\n",
    "param_grid = {\n",
    "    'bootstrap': [True],\n",
    "    'max_depth': [80, 90, 100, 110],\n",
    "    'max_features': [2, 3],\n",
    "    'min_samples_leaf': [3, 4, 5],\n",
    "    'min_samples_split': [8, 10, 12],\n",
    "    'n_estimators': [100, 200, 300, 1000]\n",
    "}\n",
    "\n",
    "# Create a based model\n",
    "rf_gscv = RandomForestRegressor()\n",
    "# Instantiate the grid search model\n",
    "grid_search = GridSearchCV(estimator = rf_gscv, param_grid = param_grid, \n",
    "                          cv = 3, n_jobs = -1, verbose = 2)"
   ]
  },
  {
   "cell_type": "code",
   "execution_count": 96,
   "id": "759ffd7c",
   "metadata": {},
   "outputs": [
    {
     "name": "stdout",
     "output_type": "stream",
     "text": [
      "Fitting 3 folds for each of 288 candidates, totalling 864 fits\n"
     ]
    },
    {
     "name": "stderr",
     "output_type": "stream",
     "text": [
      "/Library/Frameworks/Python.framework/Versions/3.8/lib/python3.8/site-packages/sklearn/model_selection/_search.py:880: DataConversionWarning: A column-vector y was passed when a 1d array was expected. Please change the shape of y to (n_samples,), for example using ravel().\n",
      "  self.best_estimator_.fit(X, y, **fit_params)\n"
     ]
    },
    {
     "data": {
      "text/plain": [
       "{'bootstrap': True,\n",
       " 'max_depth': 80,\n",
       " 'max_features': 3,\n",
       " 'min_samples_leaf': 3,\n",
       " 'min_samples_split': 8,\n",
       " 'n_estimators': 300}"
      ]
     },
     "execution_count": 96,
     "metadata": {},
     "output_type": "execute_result"
    }
   ],
   "source": [
    "grid_search.fit(X_train, y_train)\n",
    "grid_search.best_params_"
   ]
  },
  {
   "cell_type": "code",
   "execution_count": 100,
   "id": "68ebef6c",
   "metadata": {},
   "outputs": [
    {
     "name": "stderr",
     "output_type": "stream",
     "text": [
      "<ipython-input-100-d0327e59a106>:12: DataConversionWarning: A column-vector y was passed when a 1d array was expected. Please change the shape of y to (n_samples,), for example using ravel().\n",
      "  clf_rf.fit(X_train, y_train)\n"
     ]
    },
    {
     "name": "stdout",
     "output_type": "stream",
     "text": [
      "Train score:    0.9790642036386032\n",
      "Test score:    0.9505933916808247\n"
     ]
    }
   ],
   "source": [
    "#Re Running Random Forest using Grid Results\n",
    "\n",
    "from sklearn.ensemble import RandomForestRegressor\n",
    "\n",
    "clf_rf = RandomForestRegressor(\n",
    " max_depth= 80,\n",
    " max_features= 3,\n",
    " min_samples_leaf= 3,\n",
    " min_samples_split= 8,\n",
    " n_estimators= 300)\n",
    "\n",
    "clf_rf.fit(X_train, y_train)\n",
    "y_pred = clf_rf.predict(X_test)\n",
    "\n",
    "print(\"Train score:   \", clf_rf.score(X_train,y_train))\n",
    "print(\"Test score:   \", clf_rf.score(X_test,y_test))"
   ]
  },
  {
   "cell_type": "code",
   "execution_count": 123,
   "id": "fc6733da",
   "metadata": {},
   "outputs": [
    {
     "name": "stdout",
     "output_type": "stream",
     "text": [
      "Mean MAE: 0.006 (0.000)\n",
      "R2: 0.954 (0.004)\n"
     ]
    }
   ],
   "source": [
    "# Rerunning Random forest using Grid Results Plus Cross Val Plus Negative mean scoring \n",
    "\n",
    "\n",
    "\n",
    "clf_rf = RandomForestRegressor(\n",
    " max_depth= 80,\n",
    " max_features= 3,\n",
    " min_samples_leaf= 3,\n",
    " min_samples_split= 8,\n",
    " n_estimators= 300)\n",
    "\n",
    "cv = RepeatedKFold(n_splits=5, n_repeats=10, random_state=1)\n",
    "\n",
    "\n",
    "# evaluate model\n",
    "\n",
    "\n",
    "scoring = ['neg_mean_absolute_error', 'r2']\n",
    "for score in scoring:\n",
    "    scores = cross_val_score(clf_rf, X_train, y_train, scoring=score, cv=cv, n_jobs=-1)\n",
    "    if score == \"neg_mean_absolute_error\":\n",
    "        scores = absolute(scores)\n",
    "        print('Mean MAE: %.3f (%.3f)' % (mean(scores), std(scores)))\n",
    "    else:\n",
    "        print('R2: %.3f (%.3f)' % (mean(scores), std(scores)))\n"
   ]
  },
  {
   "cell_type": "code",
   "execution_count": null,
   "id": "42320967",
   "metadata": {},
   "outputs": [],
   "source": []
  },
  {
   "cell_type": "code",
   "execution_count": null,
   "id": "05a30bc7",
   "metadata": {},
   "outputs": [],
   "source": []
  },
  {
   "cell_type": "code",
   "execution_count": null,
   "id": "9ea95a10",
   "metadata": {},
   "outputs": [],
   "source": []
  },
  {
   "cell_type": "code",
   "execution_count": 126,
   "id": "46caceda",
   "metadata": {},
   "outputs": [
    {
     "name": "stdout",
     "output_type": "stream",
     "text": [
      "Requirement already satisfied: pip in /Library/Frameworks/Python.framework/Versions/3.8/lib/python3.8/site-packages (21.0.1)\n",
      "Collecting pip\n",
      "  Downloading pip-21.1.1-py3-none-any.whl (1.5 MB)\n",
      "\u001b[K     |████████████████████████████████| 1.5 MB 3.1 MB/s eta 0:00:01\n",
      "\u001b[?25hInstalling collected packages: pip\n",
      "  Attempting uninstall: pip\n",
      "    Found existing installation: pip 21.0.1\n",
      "    Uninstalling pip-21.0.1:\n",
      "      Successfully uninstalled pip-21.0.1\n",
      "Successfully installed pip-21.1.1\n"
     ]
    }
   ],
   "source": [
    "!pip install --upgrade pip"
   ]
  },
  {
   "cell_type": "code",
   "execution_count": null,
   "id": "26ea1a2f",
   "metadata": {},
   "outputs": [],
   "source": []
  },
  {
   "cell_type": "code",
   "execution_count": null,
   "id": "098bd23b",
   "metadata": {},
   "outputs": [],
   "source": []
  },
  {
   "cell_type": "code",
   "execution_count": null,
   "id": "6b25d093",
   "metadata": {},
   "outputs": [],
   "source": []
  },
  {
   "cell_type": "code",
   "execution_count": null,
   "id": "c3bedc9b",
   "metadata": {},
   "outputs": [],
   "source": []
  },
  {
   "cell_type": "code",
   "execution_count": null,
   "id": "d4410fa0",
   "metadata": {},
   "outputs": [],
   "source": []
  }
 ],
 "metadata": {
  "kernelspec": {
   "display_name": "Python 3",
   "language": "python",
   "name": "python3"
  },
  "language_info": {
   "codemirror_mode": {
    "name": "ipython",
    "version": 3
   },
   "file_extension": ".py",
   "mimetype": "text/x-python",
   "name": "python",
   "nbconvert_exporter": "python",
   "pygments_lexer": "ipython3",
   "version": "3.8.6"
  }
 },
 "nbformat": 4,
 "nbformat_minor": 5
}
